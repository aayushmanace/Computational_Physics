{
  "cells": [
    {
      "cell_type": "code",
      "execution_count": null,
      "metadata": {
        "id": "H8kTUnvOJ6Fg"
      },
      "outputs": [],
      "source": [
        "import mod\n",
        "import numpy as np"
      ]
    },
    {
      "cell_type": "markdown",
      "metadata": {
        "id": "-VYIQvl9J6Fh"
      },
      "source": [
        "## 1. Matrix"
      ]
    },
    {
      "cell_type": "code",
      "execution_count": null,
      "metadata": {
        "id": "GyPkQ6YYJ6Fi"
      },
      "outputs": [],
      "source": [
        "### Neccessary Function"
      ]
    },
    {
      "cell_type": "code",
      "execution_count": null,
      "metadata": {
        "id": "oFYgFc-mJ6Fi"
      },
      "outputs": [],
      "source": [
        "def transpose(a):\n",
        "    a = np.array(a)\n",
        "    p = np.zeros([a.shape[1], a.shape[0]])\n",
        "    for i in range(a.shape[0]):\n",
        "        for j in range(a.shape[1]):\n",
        "            p[j,i] = a[i,j]\n",
        "    return p\n",
        "\n",
        "def trace(a):\n",
        "    a = np.array(a)\n",
        "    if a.shape[0] == a.shape[1]:\n",
        "        return np.array(np.sum([a[i,i] for i in range(a.shape[0])]))\n",
        "    else:\n",
        "        raise ValueError(\"Input matrix is not square\")\n",
        "        \n",
        "        \n",
        "def determinant(a):\n",
        "    if a.shape[0] == a.shape[1]:\n",
        "        if a.shape == (2,2):\n",
        "            return a[0,0]*a[1,1]-a[0,1]*a[1,0]\n",
        "        elif a.shape == (3,3):\n",
        "            one = a[0,0]*determinant(a[1:,[1,2]])\n",
        "            second = -1*a[0,1]*determinant(a[1:,[0,2]])\n",
        "            third = a[0,2]*determinant(a[1:,[0,1]])\n",
        "            return (one+second+third)\n",
        "        else:\n",
        "            raise \"Work in progress\"\n",
        "    \n",
        "    else:\n",
        "        raise ValueError(\"Input Matrix is not a square matrix\")\n",
        "        \n",
        "def multiply(a,b):\n",
        "    a = np.array(a)\n",
        "    b = np.array(b)\n",
        "    if np.array(a).shape[1] == np.array(b).shape[0]:\n",
        "        p = np.zeros([a.shape[0], b.shape[1]])\n",
        "        for i in range(a.shape[0]):\n",
        "            for j in range(b.shape[1]):\n",
        "                p[i,j] = a[i,:]@b[:,j]\n",
        "                return p\n",
        "    else:\n",
        "        print(\"Matrix size is not compatible for multiplication\")\n",
        "        raise ValueError(\"Matrix size is not compatible for multiplication\")"
      ]
    },
    {
      "cell_type": "markdown",
      "metadata": {
        "id": "N4lNNNcYJ6Fj"
      },
      "source": [
        "### b) Python Program to check the hermicity of a given matrix "
      ]
    },
    {
      "cell_type": "code",
      "execution_count": null,
      "metadata": {
        "id": "QYPrVTXVJ6Fj"
      },
      "outputs": [],
      "source": [
        "def her(a):\n",
        "    if a.shape[0] == a.shape[1]:\n",
        "        for i in range(a.shape[0]):\n",
        "            for j in range(a.shape[1]):\n",
        "                if (np.conjugate(m)[i,j] == transpose(m)[i,j]):\n",
        "                    print(\"Trace: \", mod.trace(a))\n",
        "                    print(\"Determinant: \", mod.determinant(a))\n",
        "                    print(\"This is a Hermitian Matrix\")\n",
        "                    return True\n",
        "                else:\n",
        "                    return False\n",
        "    else:\n",
        "        raise ValueError(\"Entered matrix is not compatible\")\n",
        "        "
      ]
    },
    {
      "cell_type": "code",
      "execution_count": null,
      "metadata": {
        "id": "yCM4nKEeJ6Fj",
        "outputId": "37dda41c-364b-4180-9c65-a999e82e384c"
      },
      "outputs": [
        {
          "data": {
            "text/plain": [
              "array([[3.+0.j, 2.+1.j, 0.+3.j],\n",
              "       [2.-1.j, 0.+0.j, 1.+1.j],\n",
              "       [0.-3.j, 1.-1.j, 0.+0.j]])"
            ]
          },
          "execution_count": 391,
          "metadata": {},
          "output_type": "execute_result"
        }
      ],
      "source": [
        "m = np.array([[np.complex(3,0),np.complex(2,-1),np.complex(0,-3)],\n",
        "        [np.complex(2,1),np.complex(0,0),np.complex(1,-1)],\n",
        "        [np.complex(0,3),np.complex(1,1),np.complex(0,0)]])\n",
        "\n",
        "\n",
        "transpose(m)"
      ]
    },
    {
      "cell_type": "code",
      "execution_count": null,
      "metadata": {
        "id": "iS1jriK5J6Fk",
        "outputId": "7982b0fa-f5c4-4a11-f143-7f674a0229ae"
      },
      "outputs": [
        {
          "name": "stdout",
          "output_type": "stream",
          "text": [
            "Trace:  (3+0j)\n",
            "Determinant:  (12+0j)\n",
            "This is a Hermitian Matrix\n"
          ]
        },
        {
          "data": {
            "text/plain": [
              "True"
            ]
          },
          "execution_count": 393,
          "metadata": {},
          "output_type": "execute_result"
        }
      ],
      "source": [
        "her(m)"
      ]
    },
    {
      "cell_type": "markdown",
      "metadata": {
        "id": "oV4SBSQVJ6Fk"
      },
      "source": [
        "### c) program to check it it is a unitary matrix"
      ]
    },
    {
      "cell_type": "code",
      "execution_count": null,
      "metadata": {
        "id": "rUQONBZoJ6Fl",
        "outputId": "1b6eb159-71f4-4104-899c-cba64c4689b8"
      },
      "outputs": [
        {
          "name": "stdout",
          "output_type": "stream",
          "text": [
            "[[-0.37796447+0.j          0.03706247-0.77831178j  0.15811388+0.47434165j]\n",
            " [-0.37796447+0.75592895j  0.22237479-0.33356219j -0.31622777-0.15811388j]\n",
            " [ 0.37796447+0.j          0.48181206+0.j          0.79056942+0.j        ]]\n"
          ]
        }
      ],
      "source": [
        "P = np.array([\n",
        "    [np.complex(-1/np.sqrt(7)),np.complex(1/np.sqrt(728),-21/np.sqrt(728)),np.complex(1/np.sqrt(40),3/np.sqrt(40))],\n",
        "    [np.complex(-1/np.sqrt(7), 2/np.sqrt(7)),np.complex(6/np.sqrt(728),-9/np.sqrt(728)),np.complex(-2/np.sqrt(40),-1/np.sqrt(40))],\n",
        "    [np.complex(1/np.sqrt(7)),np.complex(13/np.sqrt(728)),np.complex(5/np.sqrt(40))]\n",
        "])\n",
        "print(P)"
      ]
    },
    {
      "cell_type": "code",
      "execution_count": null,
      "metadata": {
        "id": "q6649H3nJ6Fl"
      },
      "outputs": [],
      "source": [
        "def unitary(a):\n",
        "    if abs(determinant(a))==1:\n",
        "        return True\n",
        "    else:\n",
        "        return False"
      ]
    },
    {
      "cell_type": "code",
      "execution_count": null,
      "metadata": {
        "id": "hLq-VHvjJ6Fl",
        "outputId": "b49b55d9-2c82-4d34-eb15-004769303fe7"
      },
      "outputs": [
        {
          "data": {
            "text/plain": [
              "False"
            ]
          },
          "execution_count": 320,
          "metadata": {},
          "output_type": "execute_result"
        }
      ],
      "source": [
        "unitary(P)"
      ]
    },
    {
      "cell_type": "code",
      "execution_count": null,
      "metadata": {
        "id": "HPwIx3k5J6Fl",
        "outputId": "a2b0e1d8-2b52-4c9d-d9b6-1abc7ae03913"
      },
      "outputs": [
        {
          "data": {
            "text/plain": [
              "(-0.9036816377213757-0.1417539823876667j)"
            ]
          },
          "execution_count": 321,
          "metadata": {},
          "output_type": "execute_result"
        }
      ],
      "source": [
        "determinant(P)"
      ]
    },
    {
      "cell_type": "code",
      "execution_count": null,
      "metadata": {
        "id": "Py16UL_4J6Fl",
        "outputId": "c0490abc-2e99-4fc0-fe2d-b9c077f60175"
      },
      "outputs": [
        {
          "name": "stdout",
          "output_type": "stream",
          "text": [
            "[[-0.37796447+0.j          0.03706247-0.77831178j  0.15811388+0.47434165j]\n",
            " [-0.37796447+0.75592895j  0.22237479-0.33356219j -0.31622777-0.15811388j]\n",
            " [ 0.37796447+0.j          0.48181206+0.j          0.79056942+0.j        ]]\n"
          ]
        }
      ],
      "source": [
        "print(P)"
      ]
    },
    {
      "cell_type": "code",
      "execution_count": null,
      "metadata": {
        "id": "1Eqn0NjtJ6Fm",
        "outputId": "0729cb4b-8f67-482e-dfdc-b7c61ff3a42f"
      },
      "outputs": [
        {
          "name": "stdout",
          "output_type": "stream",
          "text": [
            "[[3.+0.j 2.-1.j 0.-3.j]\n",
            " [2.+1.j 0.+0.j 1.-1.j]\n",
            " [0.+3.j 1.+1.j 0.+0.j]]\n"
          ]
        }
      ],
      "source": [
        "A = m\n",
        "print(A)"
      ]
    },
    {
      "cell_type": "markdown",
      "metadata": {
        "id": "wRO03TJ9J6Fm"
      },
      "source": [
        "### Find the trace and the determinant of D where D = $P_{d} A P$ where $P_d$ is P_dagger"
      ]
    },
    {
      "cell_type": "code",
      "execution_count": null,
      "metadata": {
        "id": "ITvlhW65J6Fm",
        "outputId": "1e1c77c7-6b3a-4a07-a896-40a65b2b06e5"
      },
      "outputs": [
        {
          "name": "stdout",
          "output_type": "stream",
          "text": [
            "[[-1.70448165-1.04521945j -1.07215671+1.01042001j -0.74124932+0.31851917j]\n",
            " [ 0.11876001+0.87435395j -0.15811388+1.41548072j  2.15659944+0.57795643j]\n",
            " [ 2.09751753+2.8535203j   1.54649836+0.41260494j  0.48181206-1.61570547j]]\n"
          ]
        }
      ],
      "source": [
        "C = mod.multiply(P,A)\n",
        "print(C)"
      ]
    },
    {
      "cell_type": "code",
      "execution_count": null,
      "metadata": {
        "id": "mfAF0yzOJ6Fm",
        "outputId": "fc918755-afb4-4184-ac25-f8bf2b4d09d5"
      },
      "outputs": [
        {
          "name": "stdout",
          "output_type": "stream",
          "text": [
            "[[-0.37796447-0.j         -0.37796447-0.75592895j  0.37796447-0.j        ]\n",
            " [ 0.03706247+0.77831178j  0.22237479+0.33356219j  0.48181206-0.j        ]\n",
            " [ 0.15811388-0.47434165j -0.31622777+0.15811388j  0.79056942-0.j        ]]\n"
          ]
        }
      ],
      "source": [
        "P_dagger = mod.transpose(np.conjugate(P))\n",
        "print(P_dagger)"
      ]
    },
    {
      "cell_type": "code",
      "execution_count": null,
      "metadata": {
        "id": "XZO0WuiPJ6Fm",
        "outputId": "8b8dc925-b3bf-4d72-f3d1-068d4df24ea6"
      },
      "outputs": [
        {
          "name": "stdout",
          "output_type": "stream",
          "text": [
            "[[ 2.05308301+1.05333625j  2.11952286-0.64143142j  0.08404977-2.57975114j]\n",
            " [ 1.49570137+0.24355205j -0.58834841-0.33619909j  0.24355205-0.49570137j]\n",
            " [ 0.71713717+2.64143142j  1.35856858+0.52190856j -0.35856858-0.71713717j]]\n"
          ]
        }
      ],
      "source": [
        "D = mod.multiply(P_dagger, C)\n",
        "print(D)"
      ]
    },
    {
      "cell_type": "code",
      "execution_count": null,
      "metadata": {
        "id": "llWTpmG7J6Fm",
        "outputId": "268091db-e328-4718-818f-e99bce0c37f2"
      },
      "outputs": [
        {
          "name": "stdout",
          "output_type": "stream",
          "text": [
            "Trace:  (1.1061660235702588+2.220446049250313e-16j)\n",
            "Determinant (10.040816326530608+4.440892098500626e-16j)\n"
          ]
        }
      ],
      "source": [
        "print(\"Trace: \", mod.trace(D))\n",
        "print(\"Determinant\", mod.determinant(D))"
      ]
    },
    {
      "cell_type": "markdown",
      "metadata": {
        "id": "RmKbSf_eJ6Fm"
      },
      "source": [
        "## 2. Fourier Series"
      ]
    },
    {
      "cell_type": "markdown",
      "metadata": {
        "id": "6xflrO86J6Fm"
      },
      "source": [
        "### a) With $m=1$ plotting the wavefunction"
      ]
    },
    {
      "cell_type": "code",
      "execution_count": null,
      "metadata": {
        "id": "DOJuz-6zJ6Fn"
      },
      "outputs": [],
      "source": [
        "def f(t):\n",
        "    return t%np.pi"
      ]
    },
    {
      "cell_type": "code",
      "execution_count": null,
      "metadata": {
        "id": "7F8qAmjtJ6Fn"
      },
      "outputs": [],
      "source": [
        "import matplotlib.pyplot as plt\n",
        "\n",
        "x = np.linspace(-5*np.pi, 5*np.pi, 1000)"
      ]
    },
    {
      "cell_type": "code",
      "execution_count": null,
      "metadata": {
        "id": "tl3gJOfeJ6Fn",
        "outputId": "c5fcd7d1-437a-4329-8247-cf1e6acffdcc"
      },
      "outputs": [
        {
          "data": {
            "image/png": "[encoded data removed]",
            "text/plain": [
              "<Figure size 432x288 with 1 Axes>"
            ]
          },
          "metadata": {
            "needs_background": "light"
          },
          "output_type": "display_data"
        }
      ],
      "source": [
        "plt.plot(x,f(x))\n",
        "plt.show()"
      ]
    },
    {
      "cell_type": "markdown",
      "metadata": {
        "id": "1KyCsHX1J6Fn"
      },
      "source": [
        "### b) Programme to approximately match wave function"
      ]
    },
    {
      "cell_type": "code",
      "execution_count": null,
      "metadata": {
        "id": "a310l6soJ6Fn"
      },
      "outputs": [],
      "source": [
        "def fourier_c(f,T,n):\n",
        "    t = np.linspace(0,np.pi,1000)\n",
        "    dt = t[1]-t[0]\n",
        "    sum = np.sum(f(t)*np.exp(n*complex(0,1)*2*np.pi*t/T)*dt)\n",
        "    return sum/T\n",
        "    \n",
        "    "
      ]
    },
    {
      "cell_type": "code",
      "execution_count": null,
      "metadata": {
        "id": "v8HYvKJpJ6Fn"
      },
      "outputs": [],
      "source": [
        "T = np.pi\n",
        "coe = [fourier_c(f,T,i) for i in range(-15,15)]\n",
        "coe;"
      ]
    },
    {
      "cell_type": "code",
      "execution_count": null,
      "metadata": {
        "id": "R1lWNQndJ6Fn"
      },
      "outputs": [],
      "source": [
        "def f_new(coe,t):\n",
        "    sum = 0\n",
        "    for n, i in enumerate(coe):\n",
        "        sum += i*np.exp(-t*complex(0,1)*(n-15)*2*np.pi/T)\n",
        "    return sum\n",
        " \n",
        "        \n",
        "    "
      ]
    },
    {
      "cell_type": "markdown",
      "metadata": {
        "id": "FmV6fZ55J6Fn"
      },
      "source": [
        "### c) ploting the two result"
      ]
    },
    {
      "cell_type": "code",
      "execution_count": null,
      "metadata": {
        "id": "uf9V0ILFJ6Fo",
        "outputId": "0f9cc08d-1183-462d-bbef-76589cbc1385"
      },
      "outputs": [
        {
          "name": "stderr",
          "output_type": "stream",
          "text": [
            "/home/iiserb/anaconda3/lib/python3.8/site-packages/numpy/core/_asarray.py:85: ComplexWarning: Casting complex values to real discards the imaginary part\n",
            "  return array(a, dtype, copy=False, order=order)\n"
          ]
        },
        {
          "data": {
            "image/png": "[encoded data removed]",
            "text/plain": [
              "<Figure size 720x720 with 1 Axes>"
            ]
          },
          "metadata": {
            "needs_background": "light"
          },
          "output_type": "display_data"
        }
      ],
      "source": [
        "plt.figure(figsize = (10,10))\n",
        "plt.plot(x,f(x), label=\"Original Function\")\n",
        "plt.plot(x,f_new(coe, x), label=\"Fourier Approximation\")\n",
        "plt.legend()\n",
        "plt.show()"
      ]
    },
    {
      "cell_type": "code",
      "execution_count": null,
      "metadata": {
        "id": "pIZJhz1AJ6Fo",
        "outputId": "cbb00ba9-0969-44c8-9a0b-dde1c32afe09"
      },
      "outputs": [
        {
          "data": {
            "text/plain": [
              "[-7, -6, -5, -4, -3, -2, -1, 0, 1, 2, 3, 4, 5, 6]"
            ]
          },
          "execution_count": 357,
          "metadata": {},
          "output_type": "execute_result"
        }
      ],
      "source": []
    },
    {
      "cell_type": "code",
      "execution_count": null,
      "metadata": {
        "id": "j1nfgg0TJ6Fo"
      },
      "outputs": [],
      "source": []
    },
    {
      "cell_type": "code",
      "execution_count": null,
      "metadata": {
        "id": "I1oop72WJ6Fo"
      },
      "outputs": [],
      "source": []
    }
  ],
  "metadata": {
    "kernelspec": {
      "display_name": "Python 3",
      "language": "python",
      "name": "python3"
    },
    "language_info": {
      "codemirror_mode": {
        "name": "ipython",
        "version": 3
      },
      "file_extension": ".py",
      "mimetype": "text/x-python",
      "name": "python",
      "nbconvert_exporter": "python",
      "pygments_lexer": "ipython3",
      "version": "3.8.3"
    },
    "colab": {
      "provenance": []
    }
  },
  "nbformat": 4,
  "nbformat_minor": 0
}